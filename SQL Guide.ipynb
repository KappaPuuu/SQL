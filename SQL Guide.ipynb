{
 "cells": [
  {
   "cell_type": "code",
   "execution_count": null,
   "metadata": {},
   "outputs": [],
   "source": []
  },
  {
   "cell_type": "markdown",
   "metadata": {},
   "source": [
    "# Chapter 1 : Work with Database\n",
    "\n",
    "Note : we usually use CAPITALIZED text to seperate SQL syntax from others (such as `<veriable_name>`)\n",
    "\n",
    "Now, **start the SQL commend line interface** using **`mysql-ctl cli`** commend on the terminal"
   ]
  },
  {
   "cell_type": "markdown",
   "metadata": {},
   "source": [
    "### - SHOW DATABASES\n",
    "\n",
    "use `SHOW DATABASES;` to show all the existing database in the server"
   ]
  },
  {
   "cell_type": "markdown",
   "metadata": {},
   "source": [
    "### - CREATE DATABASE\n",
    "\n",
    "use `CREATE DATABASE <name>;` to create a new database"
   ]
  },
  {
   "cell_type": "markdown",
   "metadata": {},
   "source": [
    "### - DROP DATABASE\n",
    "**WARNING**: Be extremely careful when using commend!\n",
    "\n",
    "use `DROP DATABASE <name>;` to **delete** the whole database"
   ]
  },
  {
   "cell_type": "markdown",
   "metadata": {},
   "source": [
    "### - USE DatabaseName\n",
    "\n",
    "use `USE <database_name>;` to run a database"
   ]
  },
  {
   "cell_type": "markdown",
   "metadata": {},
   "source": [
    "### - SELECT database()\n",
    "use `SELECT database();` to check what database are we currently running"
   ]
  },
  {
   "cell_type": "markdown",
   "metadata": {},
   "source": [
    "<br><br>"
   ]
  },
  {
   "cell_type": "markdown",
   "metadata": {},
   "source": [
    "#  Chapter 2 : Work with Tables\n",
    "There is a bunch of tables in a database. This is where the data is store."
   ]
  },
  {
   "cell_type": "markdown",
   "metadata": {},
   "source": [
    "### Data Types\n",
    "In SQL, there is a bunch of data types, and must be specified when you create the columns (or header)\n",
    "\n",
    "   **Numeric Type**\n",
    "    - INT (e.g. 12, 0, -999, 31415926, )\n",
    "    - DECIMAL\n",
    "\n",
    "   **Text Type**\n",
    "    - VARCHAR(1-255) - a variable-length string (e.g. 'dog', 'asdfhsufhoad', '9', 'Hello World!')\n",
    " \n",
    "   **Date Type**\n",
    "    - DATETIME\n",
    "    - TIMESTAMP"
   ]
  },
  {
   "cell_type": "markdown",
   "metadata": {},
   "source": [
    "**Example** - A tweet table\n",
    "\n",
    " 1. User Name: `userName - VARCHAR(15)`\n",
    " 2. Tweet Content: `tweetContent - VARCHAR(140)`\n",
    " 3. Number of favorites: `likes - INT`"
   ]
  },
  {
   "cell_type": "markdown",
   "metadata": {},
   "source": [
    "### - Create Table\n",
    "In convention, we use **plural** to name the table. <br>\n",
    "\n",
    "Use the following syntex to create a table: <br>\n",
    "> `CREATE TABLE <table_name> \n",
    "    (\n",
    "        <column_name>   <DATA_TYPE>,\n",
    "        <column_name>   <DATA_TYPE>\n",
    "    );`\n",
    "\n",
    "For example\n",
    "\n",
    "> `CREATE TABLE tweets \n",
    "    (\n",
    "        userName       VARCHAR(15),\n",
    "        tweetContent   VARCHAR(140),\n",
    "        likes          INT\n",
    "    );`"
   ]
  },
  {
   "cell_type": "markdown",
   "metadata": {},
   "source": [
    "### - SHOW TABLES\n",
    "use `SHOW TABLES;`to check all tables in the database"
   ]
  },
  {
   "cell_type": "markdown",
   "metadata": {},
   "source": [
    "### - SHOW COLUMNS FROM TableName\n",
    "use `SHOW COLUMNS FROM <Table_Name>;` or `DESC <Table_Name>;` to get the all columns and data types in the table.<br>\n",
    "The result is identical."
   ]
  },
  {
   "cell_type": "markdown",
   "metadata": {},
   "source": [
    "### - DROP TABLE TableName\n",
    "use `DROP TABLE <Table_Name>;` to delete the entire table"
   ]
  },
  {
   "cell_type": "markdown",
   "metadata": {},
   "source": [
    "<br><br>"
   ]
  },
  {
   "cell_type": "markdown",
   "metadata": {},
   "source": [
    "# Chapter 3 : Work with Data"
   ]
  },
  {
   "cell_type": "markdown",
   "metadata": {},
   "source": [
    "### - INSERT INTO\n",
    "\n",
    "use the following syntex to insert a line of data into a table:\n",
    ">` INSERT INTO <table_name> (<column_name_1>, <column_name_2>, ...)\n",
    " VALUES (<value_1>, <value_2>, ...);`\n",
    "\n",
    "and, when inserting multiple data:\n",
    ">` INSERT INTO <table_name> (<column_name_1>, <column_name_2>, ...)\n",
    " VALUES (<value_1>, <value_2>, ...),\n",
    "       (<value_1>, <value_2>, ...),\n",
    "       (<value_1>, <value_2>, ...);`\n",
    "\n",
    "\n",
    "\n",
    "Note: **ORDER MATTERS!**"
   ]
  },
  {
   "cell_type": "markdown",
   "metadata": {},
   "source": [
    "### - SHOW WARNINGS\n",
    "\n",
    "When there's a problem while inserting data (e.g. string is too long, wrong data type), it will tell you there's a warning. <br>\n",
    "To check what the problem was, use `SHOW WARNINGS;` after you're warned.<br><br>\n",
    "Note that it only works on the previous commend. <br>\n",
    "For instance, if you use `SELECT` immediately after inserting data. `SHOW WARNINGS;` will show *empty*."
   ]
  },
  {
   "cell_type": "markdown",
   "metadata": {},
   "source": [
    "### - Null\n",
    "Unknown Value\n",
    "\n",
    "When using `DESC <table_name>;` What does the *YES* under **NULL** mean?\n",
    "It means it can accept *Null* as a value.\n",
    "\n",
    "So, to prevent that, use `NOT NULL` when specifying the data type.\n",
    "For example:\n",
    "\n",
    "> `CREATE TABLE tweets \n",
    "    (\n",
    "        userName       VARCHAR(15)    NOT NULL,\n",
    "        tweetContent   VARCHAR(140)   NOT NULL,\n",
    "        likes          INT            NOT NULL\n",
    "    );`\n",
    "\n",
    "However, if you insert a empty value that does not allow null value, and you didn't set an default value, you will end up with an ***empty string***."
   ]
  },
  {
   "cell_type": "markdown",
   "metadata": {},
   "source": [
    "### - Default Values\n",
    "\n",
    "If the value inserting is not specified, it will be replaced with the default value.\n",
    "\n",
    "For instance:\n",
    "\n",
    "> `CREATE TABLE tweets \n",
    "    (\n",
    "        userName       VARCHAR(15)    DEFAULT   'unknown user',\n",
    "        tweetContent   VARCHAR(140)   DEFAULT   'no content',\n",
    "        likes          INT            DEFAULT   '0'\n",
    "    );`"
   ]
  },
  {
   "cell_type": "markdown",
   "metadata": {},
   "source": [
    "### - Combining NOT NULL with DEFAULT\n",
    "You might be wondering, if we already specified the `DEFAULT` value, why do we still need to specify `NOT NULL`, since we already have a `DEFAULT` value?\n",
    "The answer is that, when inserting data, we can still specify the value to be `NULL`.\n",
    "So, to prevent that from happening, this is what we'll write:\n",
    "\n",
    "> `CREATE TABLE tweets \n",
    "    (\n",
    "        userName      VARCHAR(15)     NOT NULL    DEFAULT  'unknown user',\n",
    "        tweetContent  VARCHAR(140)    NOT NULL    DEFAULT  'no content',\n",
    "        likes         INT             NOT NULL    DEFAULT  '0'\n",
    "    );`"
   ]
  },
  {
   "cell_type": "markdown",
   "metadata": {},
   "source": [
    "### - Primary Key\n",
    "\n",
    "A unique identifier. What it does is that it specify the columns that every value in that columns **must be unique.**\n",
    "\n",
    "   **Why do we need key?**<br>\n",
    "     To prevent identical data, such as ID, user_name in account table.\n",
    "\n",
    "   **Why should we prevent identical data?**<br>\n",
    "     So we can refer to the data we want **SPECIFICALLY**.\n",
    "\n",
    "Use the following lines:\n",
    "\n",
    "> `CREATE TABLE tweets1 \n",
    "    (\n",
    "        tweet_id      INT             NOT NULL,\n",
    "        userName      VARCHAR(15)     NOT NULL    DEFAULT  'unknown user',\n",
    "        tweetContent  VARCHAR(140)    NOT NULL,\n",
    "        likes         INT,\n",
    "        PRIMARY KEY (tweet_id)\n",
    "    );`\n",
    "\n",
    "However, it's impractical to specify the id every time, so we can use `AUTO_INCREMENT` to get around this:\n",
    "\n",
    "> `CREATE TABLE tweets1 \n",
    "    (\n",
    "        tweet_id      INT             NOT NULL    AUTO_INCREMENT,\n",
    "        userName      VARCHAR(15)     NOT NULL    DEFAULT  'unknown user',\n",
    "        tweetContent  VARCHAR(140)    NOT NULL,\n",
    "        likes         INT,\n",
    "        PRIMARY KEY ('tweet_id')\n",
    "    );`\n",
    "    \n",
    "Now, we on longer need to specify the id every single time."
   ]
  },
  {
   "cell_type": "markdown",
   "metadata": {},
   "source": [
    "**Exercise:**\n",
    "\n",
    "`CREATE TABLE employees\n",
    "    (\n",
    "        id               INT             NOT NULL      AUTO_INCREMENT,\n",
    "        last_name        VARCHAR(255)    NOT NULL,\n",
    "        first_name       VARCHAR(255)    NOT NULL,\n",
    "        middle_name      VARCHAR(255),\n",
    "        age              INT             NOT NULL,\n",
    "        current_status   VARCHAR(100)    NOT NULL      DEFAULT 'employed',\n",
    "        PRIMARY KEY (id)\n",
    "    )`\n",
    "    \n",
    "**Result**\n",
    "\n",
    "*mysql> `DESC employees;`* <br><br>\n",
    "` +----------------+--------------+------+-----+----------+----------------+\n",
    " | Field          | Type         | Null | Key | Default  | Extra          |\n",
    " +----------------+--------------+------+-----+----------+----------------+\n",
    " | id             | int(11)      | NO   | PRI | NULL     | auto_increment |\n",
    " | last_name      | varchar(255) | NO   |     | NULL     |                |\n",
    " | first_name     | varchar(255) | NO   |     | NULL     |                |\n",
    " | middle_name    | varchar(255) | YES  |     | NULL     |                |\n",
    " | age            | int(11)      | NO   |     | NULL     |                |\n",
    " | current_status | varchar(100) | NO   |     | employed |                |\n",
    " +----------------+--------------+------+-----+----------+----------------+`"
   ]
  },
  {
   "cell_type": "markdown",
   "metadata": {},
   "source": [
    "<br><br>"
   ]
  },
  {
   "cell_type": "markdown",
   "metadata": {},
   "source": [
    "# Chapter 4 : The Basic of \"CRUD\"\n",
    "\n",
    "**CRUD** stands for:\n",
    "- **C**reate\n",
    "- **R**ead\n",
    "- **U**pdate\n",
    "- **D**elete\n",
    "\n",
    "which are the most commonly used operations. \n",
    "And we have already covered the **C**reate part, so let's focus on the next thing – **R**ead."
   ]
  },
  {
   "cell_type": "markdown",
   "metadata": {},
   "source": [
    "## 4.1 Read Data"
   ]
  },
  {
   "cell_type": "markdown",
   "metadata": {},
   "source": [
    "### - SELECT *\n",
    "use `SELECT <fields_names> FROM <table_name>` to read the data.\n",
    "\n",
    "\n",
    "#### All Fields\n",
    "\n",
    "Use `*` to find all fields(columns)\n",
    "\n",
    "`SELECT * FROM <table_name>;`\n",
    "\n",
    "\n",
    "#### Specified Fields\n",
    "\n",
    "Use `<column_name>` to specify the fields you want\n",
    "\n",
    "` SELECT <column_name_1>, <column_name_2>\n",
    " FROM <table_name>;`\n",
    " \n",
    "Note that the order of `<column_name>` matters."
   ]
  },
  {
   "cell_type": "markdown",
   "metadata": {},
   "source": [
    "### - WHERE clause\n",
    "\n",
    "Use `WHERE` to get the information that fits the **CONDITION**, or you can say that **fits the description**.\n",
    "\n",
    ">*e.g.*\n",
    ">1. Show all cats that are 4 years old. <br>\n",
    ">`SELECT * FROM cats\n",
    " WHERE age = 4;`\n",
    "><br><br>\n",
    ">2. Show all cats that are called 'Egg'. <br>\n",
    ">*Note that it doesn't care about the uppercase or lowercase characters* <br>\n",
    ">`SELECT * FROM cats\n",
    " WHERE name = 'Egg';`\n",
    ">"
   ]
  },
  {
   "cell_type": "markdown",
   "metadata": {},
   "source": [
    "### - AS (Aliases)\n",
    "Use `AS` to specify the columns' names, so it's more 'intepretable' to human.\n",
    "\n",
    "> *e.g.* cat_id --> **ID**, breed --> **Type of cat**, name --> **Cat's Name** <br>\n",
    "> `SELECT cat_id AS 'ID', breed AS 'Type of cat', name AS 'Cat\\'s Name'` <br>\n",
    "> `FROM cats`"
   ]
  },
  {
   "cell_type": "markdown",
   "metadata": {},
   "source": [
    "## 4.2 Update Data\n",
    "Alter existing data."
   ]
  },
  {
   "cell_type": "markdown",
   "metadata": {},
   "source": [
    "### - UPDATE ... SET ...\n",
    "Use the following syntax to update the existing value with `<new_value>` <br>\n",
    ">`UPDATE <table_name> SET <column_name> = <new_value>\n",
    "WHERE <where_to_perform>;` \n",
    "\n",
    "*e.g.*\n",
    "> 1. update the breed name 'Tabby' to 'Shorthair'\n",
    ">`UPDATE cats SET breed = 'Shorthair'\n",
    "WHERE breed = 'Tabby';`\n",
    ">\n",
    "> 2. update the Misty's age to 14\n",
    "> `Update cats SET age = 14\n",
    "WHERE name = 'Misty';`\n",
    "\n",
    "#### IMPORTANT NOTE:\n",
    "Use **`SELECT` BEFORE** using `UPDATE` to check if you're updating the right data!\n",
    "\n",
    "> For instance, use <br>\n",
    "> **` SELECT breed\n",
    " FROM cats\n",
    " WHERE name = 'Ringo';`**\n",
    "> <br><br>and before using<br>\n",
    "> **` UPDATE cats\n",
    " SET breed = 'British Shorthair'\n",
    " WHERE name = 'Ringo';`**"
   ]
  },
  {
   "cell_type": "markdown",
   "metadata": {},
   "source": [
    "## 4.3 Delete Data\n",
    "Delete **entire row** from the table."
   ]
  },
  {
   "cell_type": "markdown",
   "metadata": {},
   "source": [
    "### - DELETE FROM\n",
    "This is very similar to `SELECT`, just replace it with `DELETE` instead, and no field need to be specified.<br>\n",
    "Concretely, write in the following form:\n",
    ">` DELETE FROM <table_name>\n",
    " WHERE <condition>;`\n",
    "\n",
    "#### IMPORTANT NOTE:\n",
    "Just like update, use **`SELECT` BEFORE** using `DELETE` to check if you're deleting the right data!\n",
    "\n",
    "> For instance, use <br>\n",
    "> **` SELECT *\n",
    " FROM cats\n",
    " WHERE name = 'Egg';`**\n",
    "> <br><br>and before using<br>\n",
    "> **` DELETE FROM cats\n",
    " WHERE name = 'Egg';`**\n",
    " \n",
    "#### ALSO IMPORTANT:\n",
    "`DELETE FROM <table_name>` will delete **ALL ENTRIES** in the table, without having to rebuild the table like the `DROP` function."
   ]
  },
  {
   "cell_type": "markdown",
   "metadata": {},
   "source": [
    "### - CRUD Exercise\n",
    "\n",
    "**Create some data**\n",
    "\n",
    "Create Database called 'shirts_db'\n",
    "> `CREATE DATABASE Shirts_db`\n",
    "\n",
    "Create shirts table in the db\n",
    "> `USE shirts_db`\n",
    "\n",
    ">`CREATE TABLE shirts\n",
    " ( shirt_id    INT NOT NULL AUTO_INCREMENT,\n",
    "   article     VARCHAR(255), \n",
    "   color       VARCHAR(255),\n",
    "   shirt_size  VARCHAR(10),\n",
    "   last_worn   INT,\n",
    "   PRIMARY KEY (shirt_id)\n",
    " );`\n",
    "\n",
    "Create some data for the table\n",
    "\n",
    "> Insert multiple entries of data in a single command: <br> <br>\n",
    ">`INSERT INTO shirts (article, color, shirt_size, last_worn)\n",
    " VALUES ('t-shirt', 'white', 'S', 10),\n",
    "        ('t-shirt', 'green', 'S', 200),\n",
    "\t    ('polo shirt', 'black', 'M', 10),\n",
    "\t    ('tank top', 'blue', 'S', 50),\n",
    "\t    ('t-shirt', 'pink', 'S', 0),\n",
    "\t    ('polo shirt', 'red', 'M', 5),\n",
    "\t    ('tank top', 'white', 'S', 200),\n",
    "\t    ('tank top', 'blue', 'M', 15);`\n",
    "\n",
    "> Insert one entry of data: <br> <br>\n",
    "> `INSERT INTO shirts (article, color, shirt_size, last_worn)\n",
    " VALUE ('polo shirt', 'purple', 'M', 50);`\n",
    "\n",
    "<br>\n",
    "\n",
    "**Read some data**\n",
    "\n",
    "Show article and shirt size\n",
    "> `SELECT article, shirt_size FROM shirts;`\n",
    "\n",
    "Show all fileds except for shirt_id\n",
    ">`SELECT article, color, shirt_size, last_worn\n",
    " FROM shirts\n",
    " WHERE shirt_size = 'M';`\n",
    "\n",
    "<br>\n",
    "\n",
    "**Update some data**\n",
    "\n",
    "Update all \n",
    ">`UPDATE shirts\n",
    " SET shirt_size = 'L'\n",
    " WHERE article = 'polo shirt';`\n",
    "\n",
    "Update last worn 15 to 0\n",
    "> `UPDATE shirts\n",
    " SET last_worn = 0\n",
    " WHERE last_worn = 15;`\n",
    "\n",
    "Update shirt size to XS and color to off white to all white shirts\n",
    "> `UPDATE shirts\n",
    " SET shirt_size = 'XS', color = 'off white'\n",
    " WHERE color = 'white';`\n",
    "\n",
    "<br>\n",
    "\n",
    "**Delete some data**\n",
    "\n",
    "Delete old shirts that was last worn 200 days (exactly) ago\n",
    "> `DELETE FROM shirts\n",
    " WHERE last_worn = 200;`\n",
    "\n",
    "Change of taste, delete all tank tops\n",
    "> `DELETE FROM shirts\n",
    " WHERE article = 'tank top';`\n",
    "\n",
    "Delete all entries\n",
    "> `DELETE FROM shirts;`\n",
    "\n",
    "Delete the table\n",
    "> `DROP table shirts;`"
   ]
  },
  {
   "cell_type": "markdown",
   "metadata": {},
   "source": [
    "<br><br>"
   ]
  },
  {
   "cell_type": "markdown",
   "metadata": {},
   "source": [
    "# Chapter 5 : Run SQL Files\n",
    "To run SQL codes, we don't always have to write cmd codes over and over. <br>\n",
    "Instead we can save them as as files and use `SOURCE <file_name>;` (*e.g.* `SOURCE test.sql;`) to run saved code in the file."
   ]
  },
  {
   "cell_type": "markdown",
   "metadata": {},
   "source": [
    "<br><br>"
   ]
  },
  {
   "cell_type": "markdown",
   "metadata": {},
   "source": [
    "# Chapter 6 : The String Functions\n",
    "Source : https://dev.mysql.com/doc/refman/8.0/en/string-functions.html"
   ]
  },
  {
   "cell_type": "markdown",
   "metadata": {},
   "source": [
    "### - CONCAT()\n",
    "Combine multiple columns and strings. <br>\n",
    "`CONCAT(<column_name_1>, <column_name_2>, '<some strings>', ...);` <br>\n",
    "*e.g.*\n",
    ">`SELECT CONCAT(first_name, ' ' ,last_name) AS 'Full Name';`<br>\n",
    "\n",
    "*e.g.*\n",
    ">`SELECT CONCAT('Hello', ' ' ,'World');`\n",
    "\n",
    "### - CONCAT_WS()\n",
    "Concate **with SEPARATOR** (for CVS file, for example).<br>\n",
    "Simply put the separator in the first item of the list of strings/columns: <br>\n",
    "`CONCAT_WS(`**`<'seperator'>`**` , <column_name_1> , <column_name_2> , '<some strings>', ...);`"
   ]
  },
  {
   "cell_type": "markdown",
   "metadata": {},
   "source": [
    "### - SUBSTRING() & SUBSTR()\n",
    "Select only parts of strings that you want:<br>\n",
    "`SELECT SUBSTRING('<text>', <index_of_the_starting_character>, <length_of_characters>);`<br>\n",
    "*Note that, in SQL, index starts with 1, instead of 0 like in Python.* <br>\n",
    "*`<Length of charaters>` means that it includes the starting character. Please refer to the following example.*\n",
    "\n",
    "*e.g.* <br>\n",
    "\n",
    "<table style=\"border:3px #cccccc solid;\" cellpadding=\"10\" border='1'>\n",
    "  <tr style=\"font-wright:bold;text-align:center;\">\n",
    "    <th>'H'</th>\n",
    "    <th>'e'</th>\n",
    "    <th>'l'</th>\n",
    "    <th>'l'</th>\n",
    "    <th>'o'</th>\n",
    "    <th>' '</th>\n",
    "    <th>'W'</th>\n",
    "    <th>'o'</th>\n",
    "    <th>'r'</th>\n",
    "    <th>'l'</th>\n",
    "    <th>'d'</th>\n",
    "  </tr>\n",
    "  <tr style=\"text-align:center;\">\n",
    "    <td>1</td>\n",
    "    <td>2</td>\n",
    "    <td>3</td>\n",
    "    <td>4</td>\n",
    "    <td>5</td>\n",
    "    <td>6</td>\n",
    "    <td>7</td>\n",
    "    <td>8</td>\n",
    "    <td>9</td>\n",
    "    <td>10</td>\n",
    "    <td>11</td>\n",
    "  </tr>\n",
    "  <tr style=\"text-align:center;\">\n",
    "    <td>-11</td>\n",
    "    <td>-10</td>\n",
    "    <td>-9</td>\n",
    "    <td>-8</td>\n",
    "    <td>-7</td>\n",
    "    <td>-6</td>\n",
    "    <td>-5</td>\n",
    "    <td>-4</td>\n",
    "    <td>-3</td>\n",
    "    <td>-2</td>\n",
    "    <td>-1</td>\n",
    "  </tr>\n",
    "</table>\n",
    "\n",
    "\n",
    "Start at the **2nd** character ('e') with a length of 4\n",
    "> `SELECT SUBSTRING('Hello World', 2, 4);` <br>\n",
    "> return **`'ello'`**\n",
    "\n",
    "Start at **7th** character, **length not specified** (which means **ALL** the characters after the starting character)\n",
    "> `SELECT SUBSTRING('Hello World', 7);` <br>\n",
    "> return **`'World'`**\n",
    "\n",
    "Start at **-7th** character (**counting backword**), **length not specified** (which means **ALL** the characters **AFTER** the starting character)\n",
    "> `SELECT SUBSTRING('Hello World', -7);` <br>\n",
    "> return **`'o World'`**\n",
    "\n",
    "Combining `CONCAT()` and `SUBSTRING()` together <br>\n",
    ">`SELECT CONCAT( SUBSTRING(title, 1, 15) , ' ...') AS 'Short Title'\n",
    " FROM books;`"
   ]
  },
  {
   "cell_type": "markdown",
   "metadata": {},
   "source": [
    "### - REPLACE()\n",
    "`REPLACE` some the specified strings with the alternative: <br>\n",
    "`SELECT REPLACE ('<text>', '<what_to_replace>', '<alternative>');`\n",
    "\n",
    "*e.g.*\n",
    "\n",
    "Replace `'o'` with `'0'` <br>\n",
    "> `SELECT REPLACE ('Hello World', 'o', '0');` <br>\n",
    "> return `'Hell0 W0rld'`\n",
    "\n",
    "Replace `' '` with `' and '` <br>\n",
    "> `SELECT REPLACE ('Cheese bread coffee milk', ' ', ' and ');` <br>\n",
    "> return `'Cheese and bread and coffee and milk'`\n",
    "\n",
    "Replace `'e'` with `'3'` <br>\n",
    "> `SELECT REPLACE ('America', 'e', '3');`\n",
    "> return `'Am3rica'`\n",
    "\n",
    "Combine `REPLACE()` and `SUBSTRING()`\n",
    "> `SELECT SUBSTRING(REPLACE(title, 'e', '3'), 1, 10) AS 'Weird Strings'\n",
    "FROM books;`"
   ]
  },
  {
   "cell_type": "markdown",
   "metadata": {},
   "source": [
    "### - REVERSE()\n",
    "`REVERSE()` Reverse your strings character by character.<br>\n",
    "\n",
    "*e.g.*\n",
    "\n",
    "> `SELECT REVERSE('Hello World');` <br>\n",
    "> return `dlroW olleH`"
   ]
  },
  {
   "cell_type": "markdown",
   "metadata": {},
   "source": [
    "### - CHAR_LENGTH()\n",
    "Count characters in the given string using:\n",
    "`SELECT CHAR_LENGTH(<text>);`\n",
    "\n",
    "*e.g.*\n",
    "\n",
    "Count the number of characters in 'Hello World'\n",
    "> `SELECT CHAR_LENGTH('Hello World');`\n",
    "> return `11`\n",
    "\n",
    "Count the number of characters of book title\n",
    "> `SELECT CHAR_LENGTH(title) FROM books;`\n",
    "\n",
    "Combining `CHAR_LENGTH()` and `CONCAT()`\n",
    "> `SELECT CONCAT(author_lname, ' is ', CHAR_LENGTH(author_lname), 'characters long')\n",
    "FROM books;`\n",
    "\n",
    "*If you want your SQL codes to look better, use this formatter: https://sql-format.com/*"
   ]
  },
  {
   "cell_type": "markdown",
   "metadata": {},
   "source": [
    "### - UPPER() and LOWER()\n",
    "Change **ALL** the string to upper case or lower case using\n",
    "`SELECT UPPER('<text>');` or `SELECT LOWER('<text>');`\n",
    "\n",
    "*e.g.*\n",
    "\n",
    "Upper case 'Hello World'\n",
    "> `SELECT UPPER('Hello World');`\n",
    "> return `'HELLO WORLD'`\n",
    "\n",
    "Lower case 'Hello World'\n",
    "> `SELECT LOWER('Hello World');`\n",
    "> return `'hello world'`\n",
    "\n",
    "<br>\n",
    "\n",
    "Note that `UPPER()` and `LOWER()` only takes **ONE argument**.<br>\n",
    "So `UPPER(CONCAT('<text>','<text>'))` works, while `CONCAT(UPPER('<text>','<text>'))` does **not**. <br>\n",
    "However, you can do it like this `CONCAT(UPPER('<text>'), UPPER('<text>'))`"
   ]
  },
  {
   "cell_type": "markdown",
   "metadata": {},
   "source": [
    "<br><br>"
   ]
  },
  {
   "cell_type": "markdown",
   "metadata": {},
   "source": [
    "# Chapter 7 : Refining Selection"
   ]
  },
  {
   "cell_type": "markdown",
   "metadata": {},
   "source": [
    "### - DISTINCT\n",
    "Get unique value (get rid of the duplcicate values).\n",
    "`SELECT DISTINCT <field_name>;`\n",
    "\n",
    "*e.g.*\n",
    "> `SELECT DISTINCT released_year FROM books;` <br>\n",
    "> `SELECT DISTINCT author_lname FROM books;`\n",
    "\n",
    "Selecting distinct data that consider multiple columns <br>\n",
    "we can combine it with `CONCAT()`: <br>\n",
    "> `SELECT DISTINCT CONCAT(author_fname, ' ', author_lname) FROM books;` <br>\n",
    "> return **ONE** column that combines the specified fields.\n",
    "\n",
    "or, simply utilize the distinct function: <br>\n",
    "> `SELECT DISTINCT author_fname, author_lname FROM books;` <br>\n",
    "> return **TWO columns** – `<author_fname>` and `<author_lname>`."
   ]
  },
  {
   "cell_type": "markdown",
   "metadata": {},
   "source": [
    "### - ORDER BY\n",
    "Sorting result (to find best seller, for example), using:<br>\n",
    "`SELECT <field_name>\n",
    " FROM <table_name>\n",
    " ORDER BY <field_name> <method>;`\n",
    "\n",
    "Note that `<method>` is default as **ascending** (`ASC`), <br>\n",
    "to specify a **descending** order, use `DESC`.\n",
    "\n",
    "Also, you don't need to select the field that you want to order by.\n",
    "\n",
    "<br>\n",
    "\n",
    "*e.g.*\n",
    "\n",
    "Alphabetical\n",
    ">`SELECT title FROM books` <br>\n",
    "> **`ORDER BY title;`**\n",
    "\n",
    "Numerical - books that has the most stock\n",
    "> `SELECT stock_quantity FROM books` <br>\n",
    "> **`ORDER BY stock_quantity DESC;`**\n",
    "\n",
    "SELECT multiple columns\n",
    "> `SELECT title, author_fname, author_lname FROM books` <br>\n",
    "> **`ORDER BY 2;`** <br>\n",
    "> *where **2** means the **second field** (`author_fname`)*\n",
    "\n",
    "ORDER BY multiple columns\n",
    "*first sort by the author's last name (`author_lname`), then sort by author's first name (`author_fname`)*\n",
    "> `SELECT author_fname, author_lname FROM books` <br>\n",
    "> **`ORDER BY author_lname, author_fname;`** <br>\n",
    "\n",
    "or\n",
    "> `SELECT author_fname, author_lname FROM books` <br>\n",
    "> **`ORDER BY 2, 1;`** <br>\n"
   ]
  },
  {
   "cell_type": "markdown",
   "metadata": {},
   "source": [
    "### - LIMIT\n",
    "Limiting the entries of result. For example, get the first 3 result. <br>\n",
    "`SELECT <field_name>\n",
    " FROM <table_name>\n",
    " LIMIT <starting_point>, <number_of_entries>;`  <br>\n",
    "where `<starting_point>` starts at 0\n",
    "\n",
    "Usually used with ORDER BY: <br>\n",
    "`SELECT <field_name>\n",
    " FROM <table_name>\n",
    " ORDER BY <field_name> <method>\n",
    " LIMIT <starting_point>,  <number_of_entries>;` <br>\n",
    "\n",
    "*e.g.*\n",
    "\n",
    "Select 5 latest books\n",
    "> `SELECT title, released_year\n",
    " FROM books\n",
    " ORDER BY released_year DESC` <br>\n",
    "> **`LIMIT 5;`** \n",
    "\n",
    "Select 3-7 latest books\n",
    "> `SELECT title, released_year\n",
    " FROM books\n",
    " ORDER BY released_year DESC` <br>\n",
    "> **`LIMIT 2, 5;`** \n",
    "\n",
    "\n",
    "Select all latest books except first 5\n",
    "> `SELECT title, released_year\n",
    " FROM books\n",
    " ORDER BY released_year DESC` <br>\n",
    "> **`LIMIT 4, 123456789098;`** <br>\n",
    "> where the `<number_of entries>` (`123456789098`) is just a random gigantic number"
   ]
  },
  {
   "cell_type": "markdown",
   "metadata": {},
   "source": [
    "### - LIKE\n",
    "Unlike the `WHERE` method that we went through, which finds you the **exact match**, <br>\n",
    "`LIKE` allows us to find values that we only know parts of information. <br>\n",
    "\n",
    "For instance, if we want to find all Harry Potter books, <br>\n",
    "instead of typing the exact titles that we probably don't remember <br>\n",
    "(*e.g.* `WHERE title = 'Harry Potter - The Philosopher's Stone'`), <br>\n",
    "we can use `LIKE` function to find all books that has 'Harry Potter' in the books' title <br>\n",
    "(*e.g.* `WHERE title LIKE '%Harry Potter%'`).\n",
    "\n",
    "**Symbols that represent any character**\n",
    "- `%` - The percent sign represents **zero**, **one**, or **multiple** characters\n",
    "- `_` - The underscore represents a **single character** <br>\n",
    "    e.g. find phone number : (235)234-4567 --> `LIKE '(___)___-____'`\n",
    "\n",
    "<br>\n",
    "\n",
    "*e.g.*\n",
    "\n",
    "Select book titles that **start with 'The'**\n",
    "> `SELECT title FROM books` <br>\n",
    "> **`WHERE title LIKE 'The%'`**\n",
    "\n",
    "Select book titles that **contain the word 'the'**\n",
    "> `SELECT title FROM books` <br>\n",
    "> **`WHERE title LIKE '%the%'`**\n",
    "\n",
    "Find books stock quantity that is 4 figures (4-digit)\n",
    "> `SELECT stock_quantity FROM books` <br>\n",
    "> **`WHERE stock_quantity LIKE '____'`**\n",
    "\n",
    "Find book titles that has a percent sign `%`.\n",
    "> (use escape sign – **backslash `\\`** with percent, like `'\\%'` an `'\\_'` ) <br>\n",
    "> `SELECT title FROM books` <br>\n",
    "> **`WHERE title LIKE '%\\%%'`**\n",
    "\n",
    "Select book titles **ends with 'd' and a character behind it.**\n",
    "> `SELECT title FROM books` <br>\n",
    "> **`WHERE title LIKE '%d_'`**\n"
   ]
  },
  {
   "cell_type": "markdown",
   "metadata": {},
   "source": [
    "<br><br>"
   ]
  },
  {
   "cell_type": "markdown",
   "metadata": {},
   "source": [
    "# Chpater 8 : The Aggregate Function"
   ]
  },
  {
   "cell_type": "markdown",
   "metadata": {},
   "source": [
    " ~ to be continued ~"
   ]
  },
  {
   "cell_type": "markdown",
   "metadata": {},
   "source": []
  },
  {
   "cell_type": "markdown",
   "metadata": {},
   "source": []
  },
  {
   "cell_type": "markdown",
   "metadata": {},
   "source": []
  },
  {
   "cell_type": "markdown",
   "metadata": {},
   "source": []
  },
  {
   "cell_type": "markdown",
   "metadata": {},
   "source": []
  },
  {
   "cell_type": "markdown",
   "metadata": {},
   "source": []
  },
  {
   "cell_type": "markdown",
   "metadata": {},
   "source": []
  },
  {
   "cell_type": "markdown",
   "metadata": {},
   "source": []
  },
  {
   "cell_type": "markdown",
   "metadata": {},
   "source": []
  },
  {
   "cell_type": "markdown",
   "metadata": {},
   "source": []
  },
  {
   "cell_type": "markdown",
   "metadata": {},
   "source": []
  },
  {
   "cell_type": "markdown",
   "metadata": {},
   "source": []
  },
  {
   "cell_type": "markdown",
   "metadata": {},
   "source": []
  },
  {
   "cell_type": "markdown",
   "metadata": {},
   "source": []
  },
  {
   "cell_type": "markdown",
   "metadata": {},
   "source": []
  },
  {
   "cell_type": "markdown",
   "metadata": {},
   "source": []
  },
  {
   "cell_type": "markdown",
   "metadata": {},
   "source": []
  },
  {
   "cell_type": "markdown",
   "metadata": {},
   "source": []
  },
  {
   "cell_type": "markdown",
   "metadata": {},
   "source": []
  },
  {
   "cell_type": "markdown",
   "metadata": {},
   "source": []
  },
  {
   "cell_type": "markdown",
   "metadata": {},
   "source": []
  },
  {
   "cell_type": "markdown",
   "metadata": {},
   "source": []
  },
  {
   "cell_type": "markdown",
   "metadata": {},
   "source": []
  },
  {
   "cell_type": "markdown",
   "metadata": {},
   "source": []
  },
  {
   "cell_type": "markdown",
   "metadata": {},
   "source": []
  },
  {
   "cell_type": "markdown",
   "metadata": {},
   "source": []
  }
 ],
 "metadata": {
  "kernelspec": {
   "display_name": "Python 3",
   "language": "python",
   "name": "python3"
  },
  "language_info": {
   "codemirror_mode": {
    "name": "ipython",
    "version": 3
   },
   "file_extension": ".py",
   "mimetype": "text/x-python",
   "name": "python",
   "nbconvert_exporter": "python",
   "pygments_lexer": "ipython3",
   "version": "3.8.1"
  }
 },
 "nbformat": 4,
 "nbformat_minor": 4
}
